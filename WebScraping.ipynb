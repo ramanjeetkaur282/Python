{
 "cells": [
  {
   "cell_type": "markdown",
   "id": "2761b793-05a0-474b-8b2a-060943abfd31",
   "metadata": {},
   "source": [
    "# Amazon Web Scraper Project"
   ]
  },
  {
   "cell_type": "code",
   "execution_count": 3,
   "id": "260e58da-d9b3-4820-8361-6b3d636a930f",
   "metadata": {},
   "outputs": [],
   "source": [
    "#import Libraries\n",
    "\n",
    "from bs4 import BeautifulSoup\n",
    "import requests\n",
    "\n",
    "import time\n",
    "import datetime\n",
    "\n",
    "import smtplib\n",
    "import csv\n",
    "import pandas as pd\n",
    "import datetime"
   ]
  },
  {
   "cell_type": "code",
   "execution_count": 85,
   "id": "9744d34c-c374-4f1c-b30a-7d2d8811f785",
   "metadata": {},
   "outputs": [
    {
     "name": "stdout",
     "output_type": "stream",
     "text": [
      "Data is scraped and saved to csv file\n"
     ]
    }
   ],
   "source": [
    "# Connect to Website\n",
    "\n",
    "URL= 'https://quotes.toscrape.com/page/2/'\n",
    "\n",
    "page=requests.get(URL)\n",
    "\n",
    "#Parse the HTML content using BeautifulSoup\n",
    "soup1=BeautifulSoup(page.content,\"html.parser\")\n",
    "soup2=BeautifulSoup(soup1.prettify())\n",
    "\n",
    "\n",
    "\n",
    "#quotes= soup2.find_all('span',class_='text')\n",
    "#authors= soup2.find_all('small',class_=\"author\")\n",
    "\n",
    "#quotes_text=[quote.get_text(strip=True) for quote in quotes]\n",
    "#authors_text=[author.get_text(strip=True) for author in authors]\n",
    "\n",
    "\n",
    "#Find all quote blocks\n",
    "quotes_divs=soup2.find_all(\"div\",class_=\"quote\")\n",
    "\n",
    "#List to store the extracted data\n",
    "quotes_data=[]\n",
    "\n",
    "#Extract the required data\n",
    "for quote_div in quotes_divs:\n",
    "    text=quote_div.find(\"span\",class_=\"text\").get_text(strip=True).replace('“', '').replace('”', '')\n",
    "    author=quote_div.find(\"small\",class_=\"author\").get_text(strip=True)\n",
    "    tags=[tag.get_text(strip=True) for tag in quote_div.find_all(\"a\",class_=\"tag\")]\n",
    "    quotes_data.append([text,author,tags])\n",
    "\n",
    "\n",
    "#Save the data to a CSV file\n",
    "df=pd.DataFrame(quotes_data,columns=[\"Quote\",\"Authors\",\"Tags\"])\n",
    "df=df.to_csv('Quotes.csv',index=False)\n",
    "\n",
    "\n",
    "#df=pd.read_csv('/Users/ramanjeetkaur/Documents/Data Analytics/Pandas/Quotes.csv')\n",
    "\n",
    "print(\"Data is scraped and saved to csv file\")"
   ]
  },
  {
   "cell_type": "code",
   "execution_count": 80,
   "id": "7662b8e7-1662-4578-972c-7961b072dca8",
   "metadata": {},
   "outputs": [
    {
     "name": "stdout",
     "output_type": "stream",
     "text": [
      "Email sent successfully!\n"
     ]
    }
   ],
   "source": [
    "#Sending Emails\n",
    "import smtplib\n",
    "from email.mime.text import MIMEText\n",
    "from email.mime.multipart import MIMEMultipart\n",
    "from email.utils import formataddr\n",
    "\n",
    "#Email configuration\n",
    "sender_email='ramanjeetkaur282@gmail.com'\n",
    "sender_name=\"Rosie\"\n",
    "receiver_email='jraman048@gmail.com'\n",
    "subject='Test Email from Python'\n",
    "body='Hello, \\n\\nThis is test email sent from Python.'\n",
    "\n",
    "#Create the email content\n",
    "message=MIMEMultipart()\n",
    "message['From']=formataddr((sender_name, sender_email))\n",
    "message['To']=receiver_email\n",
    "message['Subject']=subject\n",
    "message.attach(MIMEText(body, 'plain'))\n",
    "\n",
    "#SMTP server configuration \n",
    "smtp_server='smtp.gmail.com'\n",
    "smtp_port=587 #For starttls\n",
    "\n",
    "#Create a secure SSL content\n",
    "context=smtplib.SMTP(smtp_server,smtp_port)\n",
    "context.starttls()\n",
    "\n",
    "try:\n",
    "    #Login to the SMTP server\n",
    "    context.login(sender_email,'xhlu shof eusn tyvu')\n",
    "\n",
    "    #Send the email\n",
    "    context.sendmail(sender_email, receiver_email, message.as_string())\n",
    "    print('Email sent successfully!')\n",
    "\n",
    "except Exception as e:\n",
    "    print(f'Failed to send email. Error:{str(e)}')\n",
    "\n",
    "finally:\n",
    "    #Quit the SMTP session\n",
    "    context.quit()"
   ]
  },
  {
   "cell_type": "code",
   "execution_count": null,
   "id": "06b82e25-2540-4458-858c-589e36235e82",
   "metadata": {},
   "outputs": [],
   "source": []
  },
  {
   "cell_type": "code",
   "execution_count": null,
   "id": "64ac2155-3217-473e-99f3-30aff2c4cc93",
   "metadata": {},
   "outputs": [],
   "source": []
  }
 ],
 "metadata": {
  "kernelspec": {
   "display_name": "Python 3 (ipykernel)",
   "language": "python",
   "name": "python3"
  },
  "language_info": {
   "codemirror_mode": {
    "name": "ipython",
    "version": 3
   },
   "file_extension": ".py",
   "mimetype": "text/x-python",
   "name": "python",
   "nbconvert_exporter": "python",
   "pygments_lexer": "ipython3",
   "version": "3.11.7"
  }
 },
 "nbformat": 4,
 "nbformat_minor": 5
}
