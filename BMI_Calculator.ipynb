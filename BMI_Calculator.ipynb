{
 "cells": [
  {
   "cell_type": "markdown",
   "id": "676e2821-dc7c-4334-89ff-a9daf237d7c2",
   "metadata": {
    "editable": true,
    "slideshow": {
     "slide_type": ""
    },
    "tags": []
   },
   "source": [
    "# BMI Calculator Project"
   ]
  },
  {
   "cell_type": "code",
   "execution_count": null,
   "id": "c53fb764-2324-4e24-96f8-b04829ad7421",
   "metadata": {},
   "outputs": [],
   "source": [
    "#BMI=(weight in pounds x 703) / (height in inches x height in inches)"
   ]
  },
  {
   "cell_type": "code",
   "execution_count": null,
   "id": "de01e32c-9456-4c77-b19a-b14403c398e1",
   "metadata": {},
   "outputs": [],
   "source": [
    "#User Inputs\n",
    "name=input(\"Enter your Name:\")\n",
    "\n",
    "weight=int(input(\"Enter your weight in pounds: \"))\n",
    "\n",
    "height=int(input(\"Enter your height in inches: \"))\n",
    "\n",
    "# BMI Calculation\n",
    "BMI= (weight * 703) / (height * height )\n",
    "\n",
    "print(BMI)\n",
    "\n",
    "if BMI > 0:\n",
    "    if(BMI <18.5):\n",
    "        print (name + \", you are underweight.\")\n",
    "    elif(BMI <=24.9):\n",
    "        print (name +\", you are normal weight.\")\n",
    "    elif(BMI <=29.9):\n",
    "        print (name + \", you are Overweight.\")\n",
    "    elif(BMI <=34.9):\n",
    "        print (name + \", you are Obese.\")\n",
    "    elif(BMI <=39.9):\n",
    "        print (name+ \", you are Severely Obese.\")       \n",
    "    else:\n",
    "        print (name+ \", you are Morbidly Obese.\")\n",
    "else:\n",
    "    print(\"Enter Valid Inputs.\")"
   ]
  }
 ],
 "metadata": {
  "kernelspec": {
   "display_name": "Python 3 (ipykernel)",
   "language": "python",
   "name": "python3"
  },
  "language_info": {
   "codemirror_mode": {
    "name": "ipython",
    "version": 3
   },
   "file_extension": ".py",
   "mimetype": "text/x-python",
   "name": "python",
   "nbconvert_exporter": "python",
   "pygments_lexer": "ipython3",
   "version": "3.11.7"
  }
 },
 "nbformat": 4,
 "nbformat_minor": 5
}
